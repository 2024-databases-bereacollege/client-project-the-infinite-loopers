{
 "cells": [
  {
   "cell_type": "markdown",
   "metadata": {},
   "source": [
    "## Setup\n",
    "\n",
    "*This is already done for you.* First, we install the python requirements from **requirements.txt**. There's lot of libraries, but most importantly, this installs the  **ipython-sql** library that enables SQL execution in Jupyter Notebooks and an older version of SQLAlchemy (1.4.46) that works with Codespaces.\n",
    "\n",
    "❗ The command ```**%load_ext sql**``` is used to activate sql in Jupyter.\n",
    "\n",
    "❗ The command ```**%sql sqlite:///<database_name>.db**``` is used to select the working database. (Note 3 slashes!)\n",
    "\n"
   ]
  },
  {
   "cell_type": "code",
   "execution_count": 10,
   "metadata": {},
   "outputs": [],
   "source": [
    "# Start the Jupyter SQL engine, connecting to a SQLite database \n",
    "%reload_ext sql \n",
    "%sql postgresql://postgres:postgres@db/postgres"
   ]
  },
  {
   "cell_type": "markdown",
   "metadata": {},
   "source": [
    "## Queries\n",
    "\n",
    "The command **%%SQL** is referenced before writing an SQL query\n",
    "\n",
    "Comments must be written in SQL syntax using double dash lines: **--** "
   ]
  },
  {
   "cell_type": "markdown",
   "metadata": {},
   "source": [
    "#### Query. 1\n",
    "Write a query that returns everything from the member table"
   ]
  },
  {
   "cell_type": "code",
   "execution_count": 11,
   "metadata": {},
   "outputs": [
    {
     "name": "stdout",
     "output_type": "stream",
     "text": [
      " * postgresql://postgres:***@db/postgres\n",
      "5 rows affected.\n"
     ]
    },
    {
     "data": {
      "text/html": [
       "<table>\n",
       "    <thead>\n",
       "        <tr>\n",
       "            <th>memberid</th>\n",
       "            <th>firstname</th>\n",
       "            <th>middlename</th>\n",
       "            <th>lastname</th>\n",
       "            <th>phonenumber</th>\n",
       "            <th>score</th>\n",
       "            <th>memberaddress</th>\n",
       "            <th>numberofeventsattended</th>\n",
       "        </tr>\n",
       "    </thead>\n",
       "    <tbody>\n",
       "        <tr>\n",
       "            <td>1</td>\n",
       "            <td>Betty</td>\n",
       "            <td>M</td>\n",
       "            <td>Hibler</td>\n",
       "            <td>1234567890</td>\n",
       "            <td>987</td>\n",
       "            <td>314 Prospect St, Berea, KY, 40403</td>\n",
       "            <td>5</td>\n",
       "        </tr>\n",
       "        <tr>\n",
       "            <td>2</td>\n",
       "            <td>Landra</td>\n",
       "            <td></td>\n",
       "            <td>Lewis</td>\n",
       "            <td>2345678901</td>\n",
       "            <td>654</td>\n",
       "            <td>619 Chestnut St, Berea, KY, 40403</td>\n",
       "            <td>3</td>\n",
       "        </tr>\n",
       "        <tr>\n",
       "            <td>3</td>\n",
       "            <td>Travis</td>\n",
       "            <td></td>\n",
       "            <td>Bolinger</td>\n",
       "            <td>3456789012</td>\n",
       "            <td>321</td>\n",
       "            <td>314 University Dr Apt A, Richmond, KY, 2841</td>\n",
       "            <td>2</td>\n",
       "        </tr>\n",
       "        <tr>\n",
       "            <td>4</td>\n",
       "            <td>Rachel</td>\n",
       "            <td></td>\n",
       "            <td>White</td>\n",
       "            <td>4567890123</td>\n",
       "            <td>432</td>\n",
       "            <td>1101 Elm St, Danville, KY, 40422</td>\n",
       "            <td>7</td>\n",
       "        </tr>\n",
       "        <tr>\n",
       "            <td>5</td>\n",
       "            <td>Joanie</td>\n",
       "            <td></td>\n",
       "            <td>Lukins</td>\n",
       "            <td>5678901234</td>\n",
       "            <td>876</td>\n",
       "            <td>503 Ohara Dr, Daville, KY, 40422</td>\n",
       "            <td>4</td>\n",
       "        </tr>\n",
       "    </tbody>\n",
       "</table>"
      ],
      "text/plain": [
       "[(1, 'Betty', 'M', 'Hibler', '1234567890', 987, '314 Prospect St, Berea, KY, 40403', 5),\n",
       " (2, 'Landra', '', 'Lewis', '2345678901', 654, '619 Chestnut St, Berea, KY, 40403', 3),\n",
       " (3, 'Travis', '', 'Bolinger', '3456789012', 321, '314 University Dr Apt A, Richmond, KY, 2841', 2),\n",
       " (4, 'Rachel', '', 'White', '4567890123', 432, '1101 Elm St, Danville, KY, 40422', 7),\n",
       " (5, 'Joanie', '', 'Lukins', '5678901234', 876, '503 Ohara Dr, Daville, KY, 40422', 4)]"
      ]
     },
     "execution_count": 11,
     "metadata": {},
     "output_type": "execute_result"
    }
   ],
   "source": [
    "%%sql\n",
    "-- This is a command that queries everything from the 'member' table\n",
    "\n",
    "SELECT * FROM member"
   ]
  },
  {
   "cell_type": "markdown",
   "metadata": {},
   "source": [
    "#### Query 2 \n",
    "Write a query that returns everything from the chapter table"
   ]
  },
  {
   "cell_type": "code",
   "execution_count": 12,
   "metadata": {},
   "outputs": [
    {
     "name": "stdout",
     "output_type": "stream",
     "text": [
      " * postgresql://postgres:***@db/postgres\n",
      "2 rows affected.\n"
     ]
    },
    {
     "data": {
      "text/html": [
       "<table>\n",
       "    <thead>\n",
       "        <tr>\n",
       "            <th>chaptername</th>\n",
       "            <th>numberofmembers</th>\n",
       "            <th>chapterlead</th>\n",
       "            <th>chapteremail</th>\n",
       "        </tr>\n",
       "    </thead>\n",
       "    <tbody>\n",
       "        <tr>\n",
       "            <td>Madison County</td>\n",
       "            <td>50</td>\n",
       "            <td>Landra Lewis</td>\n",
       "            <td>alex@example.com</td>\n",
       "        </tr>\n",
       "        <tr>\n",
       "            <td>Wilderness Trace</td>\n",
       "            <td>30</td>\n",
       "            <td>Emily Brown</td>\n",
       "            <td>emily@example.com</td>\n",
       "        </tr>\n",
       "    </tbody>\n",
       "</table>"
      ],
      "text/plain": [
       "[('Madison County', 50, 'Landra Lewis', 'alex@example.com'),\n",
       " ('Wilderness Trace', 30, 'Emily Brown', 'emily@example.com')]"
      ]
     },
     "execution_count": 12,
     "metadata": {},
     "output_type": "execute_result"
    }
   ],
   "source": [
    "%%sql\n",
    "\n",
    "SELECT * FROM chapter "
   ]
  },
  {
   "cell_type": "code",
   "execution_count": 13,
   "metadata": {},
   "outputs": [
    {
     "name": "stdout",
     "output_type": "stream",
     "text": [
      " * postgresql://postgres:***@db/postgres\n",
      "5 rows affected.\n"
     ]
    },
    {
     "data": {
      "text/html": [
       "<table>\n",
       "    <thead>\n",
       "        <tr>\n",
       "            <th>eventname</th>\n",
       "            <th>venue</th>\n",
       "            <th>theme</th>\n",
       "            <th>eventdate</th>\n",
       "            <th>numberofmemebersattended</th>\n",
       "        </tr>\n",
       "    </thead>\n",
       "    <tbody>\n",
       "        <tr>\n",
       "            <td>Community Building</td>\n",
       "            <td>Convention Center</td>\n",
       "            <td>Environmental Preservation</td>\n",
       "            <td>2024-04-01</td>\n",
       "            <td>200</td>\n",
       "        </tr>\n",
       "        <tr>\n",
       "            <td>Workshop</td>\n",
       "            <td>Community Center</td>\n",
       "            <td>Environmental Preservation</td>\n",
       "            <td>2024-04-15</td>\n",
       "            <td>80</td>\n",
       "        </tr>\n",
       "        <tr>\n",
       "            <td>Hackathon</td>\n",
       "            <td>Convention Center</td>\n",
       "            <td>Environmental Preservation</td>\n",
       "            <td>2024-04-01</td>\n",
       "            <td>200</td>\n",
       "        </tr>\n",
       "        <tr>\n",
       "            <td>Seedy Workshop</td>\n",
       "            <td>Community Center</td>\n",
       "            <td>Environmental Preservation</td>\n",
       "            <td>2024-04-15</td>\n",
       "            <td>80</td>\n",
       "        </tr>\n",
       "        <tr>\n",
       "            <td>How to sleep in class</td>\n",
       "            <td>Community Center</td>\n",
       "            <td>Sleep</td>\n",
       "            <td>2024-04-15</td>\n",
       "            <td>80</td>\n",
       "        </tr>\n",
       "    </tbody>\n",
       "</table>"
      ],
      "text/plain": [
       "[('Community Building', 'Convention Center', 'Environmental Preservation', datetime.date(2024, 4, 1), 200),\n",
       " ('Workshop', 'Community Center', 'Environmental Preservation', datetime.date(2024, 4, 15), 80),\n",
       " ('Hackathon', 'Convention Center', 'Environmental Preservation', datetime.date(2024, 4, 1), 200),\n",
       " ('Seedy Workshop', 'Community Center', 'Environmental Preservation', datetime.date(2024, 4, 15), 80),\n",
       " ('How to sleep in class', 'Community Center', 'Sleep', datetime.date(2024, 4, 15), 80)]"
      ]
     },
     "execution_count": 13,
     "metadata": {},
     "output_type": "execute_result"
    }
   ],
   "source": [
    "%%sql\n",
    "\n",
    "SELECT * FROM event"
   ]
  },
  {
   "cell_type": "code",
   "execution_count": 14,
   "metadata": {},
   "outputs": [
    {
     "name": "stdout",
     "output_type": "stream",
     "text": [
      " * postgresql://postgres:***@db/postgres\n",
      "5 rows affected.\n"
     ]
    },
    {
     "data": {
      "text/html": [
       "<table>\n",
       "    <thead>\n",
       "        <tr>\n",
       "            <th>donationid</th>\n",
       "            <th>donorid</th>\n",
       "            <th>item</th>\n",
       "            <th>monetaryworth</th>\n",
       "        </tr>\n",
       "    </thead>\n",
       "    <tbody>\n",
       "        <tr>\n",
       "            <td>1</td>\n",
       "            <td>None</td>\n",
       "            <td>Laptop</td>\n",
       "            <td>800</td>\n",
       "        </tr>\n",
       "        <tr>\n",
       "            <td>2</td>\n",
       "            <td>None</td>\n",
       "            <td>Books</td>\n",
       "            <td>100</td>\n",
       "        </tr>\n",
       "        <tr>\n",
       "            <td>3</td>\n",
       "            <td>None</td>\n",
       "            <td>Laptop</td>\n",
       "            <td>800</td>\n",
       "        </tr>\n",
       "        <tr>\n",
       "            <td>4</td>\n",
       "            <td>None</td>\n",
       "            <td>Books</td>\n",
       "            <td>100</td>\n",
       "        </tr>\n",
       "        <tr>\n",
       "            <td>5</td>\n",
       "            <td>None</td>\n",
       "            <td>Laptop</td>\n",
       "            <td>800</td>\n",
       "        </tr>\n",
       "    </tbody>\n",
       "</table>"
      ],
      "text/plain": [
       "[(1, None, 'Laptop', 800),\n",
       " (2, None, 'Books', 100),\n",
       " (3, None, 'Laptop', 800),\n",
       " (4, None, 'Books', 100),\n",
       " (5, None, 'Laptop', 800)]"
      ]
     },
     "execution_count": 14,
     "metadata": {},
     "output_type": "execute_result"
    }
   ],
   "source": [
    "%%sql\n",
    "\n",
    "SELECT * FROM donation"
   ]
  },
  {
   "cell_type": "code",
   "execution_count": 18,
   "metadata": {},
   "outputs": [
    {
     "name": "stdout",
     "output_type": "stream",
     "text": [
      " * postgresql://postgres:***@db/postgres\n",
      "0 rows affected.\n"
     ]
    },
    {
     "data": {
      "text/html": [
       "<table>\n",
       "    <thead>\n",
       "        <tr>\n",
       "            <th>firstname</th>\n",
       "            <th>lastname</th>\n",
       "            <th>memberid</th>\n",
       "            <th>item</th>\n",
       "        </tr>\n",
       "    </thead>\n",
       "    <tbody>\n",
       "    </tbody>\n",
       "</table>"
      ],
      "text/plain": [
       "[]"
      ]
     },
     "execution_count": 18,
     "metadata": {},
     "output_type": "execute_result"
    }
   ],
   "source": [
    "%%sql\n",
    "\n",
    "SELECT m.firstName, m.lastName, m.memberId, d.item\n",
    "FROM member m\n",
    "JOIN donation d ON m.memberId = d.donorId;\n"
   ]
  }
 ],
 "metadata": {
  "kernelspec": {
   "display_name": "Python 3",
   "language": "python",
   "name": "python3"
  },
  "language_info": {
   "codemirror_mode": {
    "name": "ipython",
    "version": 3
   },
   "file_extension": ".py",
   "mimetype": "text/x-python",
   "name": "python",
   "nbconvert_exporter": "python",
   "pygments_lexer": "ipython3",
   "version": "3.10.13"
  }
 },
 "nbformat": 4,
 "nbformat_minor": 2
}
